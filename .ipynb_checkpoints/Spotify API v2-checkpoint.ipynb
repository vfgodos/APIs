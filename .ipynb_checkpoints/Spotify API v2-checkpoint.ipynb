{
 "cells": [
  {
   "cell_type": "markdown",
   "id": "fad768a5",
   "metadata": {},
   "source": [
    "## Spotify API"
   ]
  },
  {
   "cell_type": "markdown",
   "id": "7d84ec6c",
   "metadata": {},
   "source": [
    "I got some help from the following link: https://prettystatic.com/automate-the-spotify-api-with-python/"
   ]
  },
  {
   "cell_type": "code",
   "execution_count": 1,
   "id": "f073b3df",
   "metadata": {},
   "outputs": [],
   "source": [
    "import pandas as pd\n",
    "import requests\n",
    "import base64\n",
    "import json\n",
    "import getpass"
   ]
  },
  {
   "cell_type": "code",
   "execution_count": 2,
   "id": "8d75c4bb",
   "metadata": {},
   "outputs": [
    {
     "name": "stdout",
     "output_type": "stream",
     "text": [
      "········\n"
     ]
    }
   ],
   "source": [
    "clientId = getpass.getpass()"
   ]
  },
  {
   "cell_type": "code",
   "execution_count": 3,
   "id": "fc7ef9df",
   "metadata": {},
   "outputs": [
    {
     "name": "stdout",
     "output_type": "stream",
     "text": [
      "········\n"
     ]
    }
   ],
   "source": [
    "clientSecret = getpass.getpass()"
   ]
  },
  {
   "cell_type": "code",
   "execution_count": 4,
   "id": "3802a16a",
   "metadata": {},
   "outputs": [],
   "source": [
    "url = \"https://accounts.spotify.com/api/token\"\n",
    "headers = {}\n",
    "data = {}"
   ]
  },
  {
   "cell_type": "markdown",
   "id": "549d70c4",
   "metadata": {},
   "source": [
    "Base64 encode Client ID and Secret"
   ]
  },
  {
   "cell_type": "code",
   "execution_count": 5,
   "id": "ff54b778",
   "metadata": {},
   "outputs": [],
   "source": [
    "message = f\"{clientId}:{clientSecret}\"\n",
    "messageBytes = message.encode('ascii')\n",
    "base64Bytes = base64.b64encode(messageBytes)\n",
    "base64Message = base64Bytes.decode('ascii')"
   ]
  },
  {
   "cell_type": "code",
   "execution_count": 6,
   "id": "930857ab",
   "metadata": {},
   "outputs": [],
   "source": [
    "headers['Authorization'] = f\"Basic {base64Message}\"\n",
    "data['grant_type'] = \"client_credentials\""
   ]
  },
  {
   "cell_type": "code",
   "execution_count": 7,
   "id": "f2fac8c2",
   "metadata": {},
   "outputs": [],
   "source": [
    "r = requests.post(url, headers=headers, data=data)"
   ]
  },
  {
   "cell_type": "code",
   "execution_count": 8,
   "id": "bfd45634",
   "metadata": {},
   "outputs": [],
   "source": [
    "token = r.json()['access_token']"
   ]
  },
  {
   "cell_type": "markdown",
   "id": "f2bfa601",
   "metadata": {},
   "source": [
    "Using the token I've created to search for the class playlist"
   ]
  },
  {
   "cell_type": "code",
   "execution_count": 9,
   "id": "d6a9890f",
   "metadata": {},
   "outputs": [],
   "source": [
    "playlistId = \"5pQVH0EJssqt4KDXPQVwv3?si=1c78075b836b414a\"\n",
    "playlistUrl = f\"https://api.spotify.com/v1/playlists/{playlistId}\"\n",
    "headers = {\n",
    "    \"Authorization\": \"Bearer \" + token\n",
    "}"
   ]
  },
  {
   "cell_type": "code",
   "execution_count": 10,
   "id": "13943730",
   "metadata": {},
   "outputs": [],
   "source": [
    "tracklist = requests.get(url=playlistUrl, headers=headers)"
   ]
  },
  {
   "cell_type": "code",
   "execution_count": 11,
   "id": "774f826c",
   "metadata": {},
   "outputs": [],
   "source": [
    "tracklist = tracklist.json()"
   ]
  },
  {
   "cell_type": "code",
   "execution_count": null,
   "id": "6e41580f",
   "metadata": {},
   "outputs": [],
   "source": [
    "tracklist"
   ]
  },
  {
   "cell_type": "markdown",
   "id": "1dd862e7",
   "metadata": {},
   "source": [
    "Creating a dataframe with the songs titles and the artists"
   ]
  },
  {
   "cell_type": "code",
   "execution_count": 13,
   "id": "7621ef07",
   "metadata": {},
   "outputs": [
    {
     "name": "stdout",
     "output_type": "stream",
     "text": [
      "['What Is Love - 7\" Mix', 'Big Me', 'Under the Bridge', 'Breathe', 'Scar Tissue', 'Dirty Little Secret', 'Changes', \"I Still Haven't Found What I'm Looking For\", 'Caminando por la vida', 'Adolescentes', 'Appreciate It', 'Bohemian Rhapsody', 'Points of Authority', 'You Give Love A Bad Name', 'Wishing on a Star']\n",
      "['Haddaway', 'Foo Fighters', 'Red Hot Chili Peppers', 'The Prodigy', 'Red Hot Chili Peppers', 'The All-American Rejects', '2Pac/Talent', 'U2', 'Melendi', 'Kiko y Shara/Shara', '2Baba', 'Queen', 'Linkin Park', 'Bon Jovi', 'Rose Royce']\n"
     ]
    }
   ],
   "source": [
    "title = []\n",
    "artist = []\n",
    "\n",
    "#I have to put song and artist in the same loop because some songs have two artists\n",
    "for t in tracklist['tracks']['items']:\n",
    "    artistList = [name['name'] for name in t['track']['artists']]\n",
    "    artists = '/'.join(artistList)\n",
    "    artist.append(artists)\n",
    "    title.append(t['track']['name'])\n",
    "\n",
    "print(title)\n",
    "print(artist)\n",
    "\n",
    "songs = pd.DataFrame({\"title\":title,\n",
    "                       \"artist\":artist\n",
    "                      })"
   ]
  },
  {
   "cell_type": "code",
   "execution_count": 14,
   "id": "c0cc9428",
   "metadata": {},
   "outputs": [
    {
     "data": {
      "text/html": [
       "<div>\n",
       "<style scoped>\n",
       "    .dataframe tbody tr th:only-of-type {\n",
       "        vertical-align: middle;\n",
       "    }\n",
       "\n",
       "    .dataframe tbody tr th {\n",
       "        vertical-align: top;\n",
       "    }\n",
       "\n",
       "    .dataframe thead th {\n",
       "        text-align: right;\n",
       "    }\n",
       "</style>\n",
       "<table border=\"1\" class=\"dataframe\">\n",
       "  <thead>\n",
       "    <tr style=\"text-align: right;\">\n",
       "      <th></th>\n",
       "      <th>title</th>\n",
       "      <th>artist</th>\n",
       "    </tr>\n",
       "  </thead>\n",
       "  <tbody>\n",
       "    <tr>\n",
       "      <th>0</th>\n",
       "      <td>What Is Love - 7\" Mix</td>\n",
       "      <td>Haddaway</td>\n",
       "    </tr>\n",
       "    <tr>\n",
       "      <th>1</th>\n",
       "      <td>Big Me</td>\n",
       "      <td>Foo Fighters</td>\n",
       "    </tr>\n",
       "    <tr>\n",
       "      <th>2</th>\n",
       "      <td>Under the Bridge</td>\n",
       "      <td>Red Hot Chili Peppers</td>\n",
       "    </tr>\n",
       "    <tr>\n",
       "      <th>3</th>\n",
       "      <td>Breathe</td>\n",
       "      <td>The Prodigy</td>\n",
       "    </tr>\n",
       "    <tr>\n",
       "      <th>4</th>\n",
       "      <td>Scar Tissue</td>\n",
       "      <td>Red Hot Chili Peppers</td>\n",
       "    </tr>\n",
       "    <tr>\n",
       "      <th>5</th>\n",
       "      <td>Dirty Little Secret</td>\n",
       "      <td>The All-American Rejects</td>\n",
       "    </tr>\n",
       "    <tr>\n",
       "      <th>6</th>\n",
       "      <td>Changes</td>\n",
       "      <td>2Pac/Talent</td>\n",
       "    </tr>\n",
       "    <tr>\n",
       "      <th>7</th>\n",
       "      <td>I Still Haven't Found What I'm Looking For</td>\n",
       "      <td>U2</td>\n",
       "    </tr>\n",
       "    <tr>\n",
       "      <th>8</th>\n",
       "      <td>Caminando por la vida</td>\n",
       "      <td>Melendi</td>\n",
       "    </tr>\n",
       "    <tr>\n",
       "      <th>9</th>\n",
       "      <td>Adolescentes</td>\n",
       "      <td>Kiko y Shara/Shara</td>\n",
       "    </tr>\n",
       "    <tr>\n",
       "      <th>10</th>\n",
       "      <td>Appreciate It</td>\n",
       "      <td>2Baba</td>\n",
       "    </tr>\n",
       "    <tr>\n",
       "      <th>11</th>\n",
       "      <td>Bohemian Rhapsody</td>\n",
       "      <td>Queen</td>\n",
       "    </tr>\n",
       "    <tr>\n",
       "      <th>12</th>\n",
       "      <td>Points of Authority</td>\n",
       "      <td>Linkin Park</td>\n",
       "    </tr>\n",
       "    <tr>\n",
       "      <th>13</th>\n",
       "      <td>You Give Love A Bad Name</td>\n",
       "      <td>Bon Jovi</td>\n",
       "    </tr>\n",
       "    <tr>\n",
       "      <th>14</th>\n",
       "      <td>Wishing on a Star</td>\n",
       "      <td>Rose Royce</td>\n",
       "    </tr>\n",
       "  </tbody>\n",
       "</table>\n",
       "</div>"
      ],
      "text/plain": [
       "                                         title                    artist\n",
       "0                        What Is Love - 7\" Mix                  Haddaway\n",
       "1                                       Big Me              Foo Fighters\n",
       "2                             Under the Bridge     Red Hot Chili Peppers\n",
       "3                                      Breathe               The Prodigy\n",
       "4                                  Scar Tissue     Red Hot Chili Peppers\n",
       "5                          Dirty Little Secret  The All-American Rejects\n",
       "6                                      Changes               2Pac/Talent\n",
       "7   I Still Haven't Found What I'm Looking For                        U2\n",
       "8                        Caminando por la vida                   Melendi\n",
       "9                                 Adolescentes        Kiko y Shara/Shara\n",
       "10                               Appreciate It                     2Baba\n",
       "11                           Bohemian Rhapsody                     Queen\n",
       "12                         Points of Authority               Linkin Park\n",
       "13                    You Give Love A Bad Name                  Bon Jovi\n",
       "14                           Wishing on a Star                Rose Royce"
      ]
     },
     "execution_count": 14,
     "metadata": {},
     "output_type": "execute_result"
    }
   ],
   "source": [
    "songs.head(20)"
   ]
  },
  {
   "cell_type": "markdown",
   "id": "1adf38eb",
   "metadata": {},
   "source": [
    "Creating a DF from the global top"
   ]
  },
  {
   "cell_type": "code",
   "execution_count": 15,
   "id": "3ce95a7e",
   "metadata": {},
   "outputs": [],
   "source": [
    "playlistId = \"37i9dQZEVXbMDoHDwVN2tF?si=2f814d9bc3b04a8f\"\n",
    "playlistUrl = f\"https://api.spotify.com/v1/playlists/{playlistId}\"\n",
    "headers = {\n",
    "    \"Authorization\": \"Bearer \" + token\n",
    "}"
   ]
  },
  {
   "cell_type": "code",
   "execution_count": 16,
   "id": "8dbd25c9",
   "metadata": {},
   "outputs": [],
   "source": [
    "tracklist = requests.get(url=playlistUrl, headers=headers).json()"
   ]
  },
  {
   "cell_type": "code",
   "execution_count": 17,
   "id": "01beb70a",
   "metadata": {},
   "outputs": [
    {
     "name": "stdout",
     "output_type": "stream",
     "text": [
      "['Heat Waves', 'STAY (with Justin Bieber)', 'abcdefu', 'Enemy (with JID) - from the series Arcane League of Legends', 'Cold Heart - PNAU Remix', 'Easy On Me', 'INDUSTRY BABY (feat. Jack Harlow)', 'MAMIII', 'Desesperados', \"We Don't Talk About Bruno\", 'Shivers', 'Still D.R.E.', 'Stay Alive (Prod. SUGA of BTS)', 'Infinity', 'THATS WHAT I WANT', 'Woman', 'Ghost', 'Boyfriend', 'Pepas', 'The Joker And The Queen (feat. Taylor Swift)', 'Bad Habits', 'My Universe', 'I Love You So', 'Lo Siento BB:/ (with Bad Bunny & Julieta Venegas)', 'pushin P (feat. Young Thug)', 'Do It To It', 'Lose Yourself - From \"8 Mile\" Soundtrack', 'Where Are You Now', 'good 4 u', 'Without Me', 'Yonaguni', 'The Motto', 'Blinding Lights', 'Need to Know', 'Sweater Weather', 'The Real Slim Shady', 'Kiss Me More (feat. SZA)', 'The Next Episode', 'Light Switch', 'Softcore', 'City of Gods', 'Dandelions', 'Toxic', 'traitor', 'Mon Amour - Remix', 'MIDDLE OF THE NIGHT', 'Brividi', 'MONTERO (Call Me By Your Name)', 'Surface Pressure - From \"Encanto\"/Soundtrack Version', 'Oh My God']\n",
      "['Glass Animals', 'The Kid LAROI/Justin Bieber', 'GAYLE', 'Imagine Dragons/JID/Arcane/League of Legends', 'Elton John/Dua Lipa/PNAU', 'Adele', 'Lil Nas X/Jack Harlow', 'Becky G/KAROL G', 'Rauw Alejandro/Chencho Corleone', 'Carolina Gaitán - La Gaita/Mauro Castillo/Adassa/Rhenzy Feliz/Diane Guerrero/Stephanie Beatriz/Encanto - Cast', 'Ed Sheeran', 'Dr. Dre/Snoop Dogg', 'Jung Kook', 'Jaymes Young', 'Lil Nas X', 'Doja Cat', 'Justin Bieber', 'Dove Cameron', 'Farruko', 'Ed Sheeran/Taylor Swift', 'Ed Sheeran', 'Coldplay/BTS', 'The Walters', 'Tainy/Bad Bunny/Julieta Venegas', 'Gunna/Future/Young Thug', 'ACRAZE/Cherish', 'Eminem', 'Lost Frequencies/Calum Scott', 'Olivia Rodrigo', 'Eminem', 'Bad Bunny', 'Tiësto/Ava Max', 'The Weeknd', 'Doja Cat', 'The Neighbourhood', 'Eminem', 'Doja Cat/SZA', 'Dr. Dre/Snoop Dogg', 'Charlie Puth', 'The Neighbourhood', 'Fivio Foreign/Kanye West/Alicia Keys', 'Ruth B.', 'BoyWithUke', 'Olivia Rodrigo', 'zzoilo/Aitana', 'Elley Duhé', 'Mahmood/BLANCO', 'Lil Nas X', 'Jessica Darrow', 'Adele']\n"
     ]
    }
   ],
   "source": [
    "title = []\n",
    "artist = []\n",
    "\n",
    "#I have to put song and artist in the same loop because some songs have two artists\n",
    "for t in tracklist['tracks']['items']:\n",
    "    artistList = [name['name'] for name in t['track']['artists']]\n",
    "    artists = '/'.join(artistList)\n",
    "    artist.append(artists)\n",
    "    title.append(t['track']['name'])\n",
    "\n",
    "print(title)\n",
    "print(artist)\n",
    "\n",
    "songs = pd.DataFrame({\"title\":title,\n",
    "                       \"artist\":artist\n",
    "                      })"
   ]
  },
  {
   "cell_type": "code",
   "execution_count": 18,
   "id": "d3b36880",
   "metadata": {
    "scrolled": true
   },
   "outputs": [
    {
     "data": {
      "text/html": [
       "<div>\n",
       "<style scoped>\n",
       "    .dataframe tbody tr th:only-of-type {\n",
       "        vertical-align: middle;\n",
       "    }\n",
       "\n",
       "    .dataframe tbody tr th {\n",
       "        vertical-align: top;\n",
       "    }\n",
       "\n",
       "    .dataframe thead th {\n",
       "        text-align: right;\n",
       "    }\n",
       "</style>\n",
       "<table border=\"1\" class=\"dataframe\">\n",
       "  <thead>\n",
       "    <tr style=\"text-align: right;\">\n",
       "      <th></th>\n",
       "      <th>title</th>\n",
       "      <th>artist</th>\n",
       "    </tr>\n",
       "  </thead>\n",
       "  <tbody>\n",
       "    <tr>\n",
       "      <th>0</th>\n",
       "      <td>Heat Waves</td>\n",
       "      <td>Glass Animals</td>\n",
       "    </tr>\n",
       "    <tr>\n",
       "      <th>1</th>\n",
       "      <td>STAY (with Justin Bieber)</td>\n",
       "      <td>The Kid LAROI/Justin Bieber</td>\n",
       "    </tr>\n",
       "    <tr>\n",
       "      <th>2</th>\n",
       "      <td>abcdefu</td>\n",
       "      <td>GAYLE</td>\n",
       "    </tr>\n",
       "    <tr>\n",
       "      <th>3</th>\n",
       "      <td>Enemy (with JID) - from the series Arcane Leag...</td>\n",
       "      <td>Imagine Dragons/JID/Arcane/League of Legends</td>\n",
       "    </tr>\n",
       "    <tr>\n",
       "      <th>4</th>\n",
       "      <td>Cold Heart - PNAU Remix</td>\n",
       "      <td>Elton John/Dua Lipa/PNAU</td>\n",
       "    </tr>\n",
       "    <tr>\n",
       "      <th>5</th>\n",
       "      <td>Easy On Me</td>\n",
       "      <td>Adele</td>\n",
       "    </tr>\n",
       "    <tr>\n",
       "      <th>6</th>\n",
       "      <td>INDUSTRY BABY (feat. Jack Harlow)</td>\n",
       "      <td>Lil Nas X/Jack Harlow</td>\n",
       "    </tr>\n",
       "    <tr>\n",
       "      <th>7</th>\n",
       "      <td>MAMIII</td>\n",
       "      <td>Becky G/KAROL G</td>\n",
       "    </tr>\n",
       "    <tr>\n",
       "      <th>8</th>\n",
       "      <td>Desesperados</td>\n",
       "      <td>Rauw Alejandro/Chencho Corleone</td>\n",
       "    </tr>\n",
       "    <tr>\n",
       "      <th>9</th>\n",
       "      <td>We Don't Talk About Bruno</td>\n",
       "      <td>Carolina Gaitán - La Gaita/Mauro Castillo/Adas...</td>\n",
       "    </tr>\n",
       "    <tr>\n",
       "      <th>10</th>\n",
       "      <td>Shivers</td>\n",
       "      <td>Ed Sheeran</td>\n",
       "    </tr>\n",
       "    <tr>\n",
       "      <th>11</th>\n",
       "      <td>Still D.R.E.</td>\n",
       "      <td>Dr. Dre/Snoop Dogg</td>\n",
       "    </tr>\n",
       "    <tr>\n",
       "      <th>12</th>\n",
       "      <td>Stay Alive (Prod. SUGA of BTS)</td>\n",
       "      <td>Jung Kook</td>\n",
       "    </tr>\n",
       "    <tr>\n",
       "      <th>13</th>\n",
       "      <td>Infinity</td>\n",
       "      <td>Jaymes Young</td>\n",
       "    </tr>\n",
       "    <tr>\n",
       "      <th>14</th>\n",
       "      <td>THATS WHAT I WANT</td>\n",
       "      <td>Lil Nas X</td>\n",
       "    </tr>\n",
       "    <tr>\n",
       "      <th>15</th>\n",
       "      <td>Woman</td>\n",
       "      <td>Doja Cat</td>\n",
       "    </tr>\n",
       "    <tr>\n",
       "      <th>16</th>\n",
       "      <td>Ghost</td>\n",
       "      <td>Justin Bieber</td>\n",
       "    </tr>\n",
       "    <tr>\n",
       "      <th>17</th>\n",
       "      <td>Boyfriend</td>\n",
       "      <td>Dove Cameron</td>\n",
       "    </tr>\n",
       "    <tr>\n",
       "      <th>18</th>\n",
       "      <td>Pepas</td>\n",
       "      <td>Farruko</td>\n",
       "    </tr>\n",
       "    <tr>\n",
       "      <th>19</th>\n",
       "      <td>The Joker And The Queen (feat. Taylor Swift)</td>\n",
       "      <td>Ed Sheeran/Taylor Swift</td>\n",
       "    </tr>\n",
       "  </tbody>\n",
       "</table>\n",
       "</div>"
      ],
      "text/plain": [
       "                                                title  \\\n",
       "0                                          Heat Waves   \n",
       "1                           STAY (with Justin Bieber)   \n",
       "2                                             abcdefu   \n",
       "3   Enemy (with JID) - from the series Arcane Leag...   \n",
       "4                             Cold Heart - PNAU Remix   \n",
       "5                                          Easy On Me   \n",
       "6                   INDUSTRY BABY (feat. Jack Harlow)   \n",
       "7                                              MAMIII   \n",
       "8                                        Desesperados   \n",
       "9                           We Don't Talk About Bruno   \n",
       "10                                            Shivers   \n",
       "11                                       Still D.R.E.   \n",
       "12                     Stay Alive (Prod. SUGA of BTS)   \n",
       "13                                           Infinity   \n",
       "14                                  THATS WHAT I WANT   \n",
       "15                                              Woman   \n",
       "16                                              Ghost   \n",
       "17                                          Boyfriend   \n",
       "18                                              Pepas   \n",
       "19       The Joker And The Queen (feat. Taylor Swift)   \n",
       "\n",
       "                                               artist  \n",
       "0                                       Glass Animals  \n",
       "1                         The Kid LAROI/Justin Bieber  \n",
       "2                                               GAYLE  \n",
       "3        Imagine Dragons/JID/Arcane/League of Legends  \n",
       "4                            Elton John/Dua Lipa/PNAU  \n",
       "5                                               Adele  \n",
       "6                               Lil Nas X/Jack Harlow  \n",
       "7                                     Becky G/KAROL G  \n",
       "8                     Rauw Alejandro/Chencho Corleone  \n",
       "9   Carolina Gaitán - La Gaita/Mauro Castillo/Adas...  \n",
       "10                                         Ed Sheeran  \n",
       "11                                 Dr. Dre/Snoop Dogg  \n",
       "12                                          Jung Kook  \n",
       "13                                       Jaymes Young  \n",
       "14                                          Lil Nas X  \n",
       "15                                           Doja Cat  \n",
       "16                                      Justin Bieber  \n",
       "17                                       Dove Cameron  \n",
       "18                                            Farruko  \n",
       "19                            Ed Sheeran/Taylor Swift  "
      ]
     },
     "execution_count": 18,
     "metadata": {},
     "output_type": "execute_result"
    }
   ],
   "source": [
    "songs.head(20)"
   ]
  }
 ],
 "metadata": {
  "kernelspec": {
   "display_name": "Python 3 (ipykernel)",
   "language": "python",
   "name": "python3"
  },
  "language_info": {
   "codemirror_mode": {
    "name": "ipython",
    "version": 3
   },
   "file_extension": ".py",
   "mimetype": "text/x-python",
   "name": "python",
   "nbconvert_exporter": "python",
   "pygments_lexer": "ipython3",
   "version": "3.9.7"
  }
 },
 "nbformat": 4,
 "nbformat_minor": 5
}

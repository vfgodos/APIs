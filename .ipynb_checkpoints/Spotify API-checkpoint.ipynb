{
 "cells": [
  {
   "cell_type": "markdown",
   "id": "4a5e6424",
   "metadata": {},
   "source": [
    "## Spotify API"
   ]
  },
  {
   "cell_type": "markdown",
   "id": "a8b8a245",
   "metadata": {},
   "source": [
    "I got some help from the following link: https://prettystatic.com/automate-the-spotify-api-with-python/"
   ]
  },
  {
   "cell_type": "code",
   "execution_count": 1,
   "id": "911ce23a",
   "metadata": {},
   "outputs": [],
   "source": [
    "import pandas as pd\n",
    "import requests\n",
    "import base64\n",
    "import json\n",
    "import getpass"
   ]
  },
  {
   "cell_type": "code",
   "execution_count": 2,
   "id": "839ec91c",
   "metadata": {},
   "outputs": [
    {
     "name": "stdout",
     "output_type": "stream",
     "text": [
      "········\n"
     ]
    }
   ],
   "source": [
    "clientId = getpass.getpass()"
   ]
  },
  {
   "cell_type": "code",
   "execution_count": 3,
   "id": "8fa10ed2",
   "metadata": {},
   "outputs": [
    {
     "name": "stdout",
     "output_type": "stream",
     "text": [
      "········\n"
     ]
    }
   ],
   "source": [
    "clientSecret = getpass.getpass()"
   ]
  },
  {
   "cell_type": "code",
   "execution_count": 4,
   "id": "083e1709",
   "metadata": {},
   "outputs": [],
   "source": [
    "url = \"https://accounts.spotify.com/api/token\"\n",
    "headers = {}\n",
    "data = {}"
   ]
  },
  {
   "cell_type": "markdown",
   "id": "2464ee6b",
   "metadata": {},
   "source": [
    "Base64 encode Client ID and Secret"
   ]
  },
  {
   "cell_type": "code",
   "execution_count": 5,
   "id": "6129932d",
   "metadata": {},
   "outputs": [],
   "source": [
    "message = f\"{clientId}:{clientSecret}\"\n",
    "messageBytes = message.encode('ascii')\n",
    "base64Bytes = base64.b64encode(messageBytes)\n",
    "base64Message = base64Bytes.decode('ascii')"
   ]
  },
  {
   "cell_type": "code",
   "execution_count": 6,
   "id": "e180f6d1",
   "metadata": {},
   "outputs": [],
   "source": [
    "headers['Authorization'] = f\"Basic {base64Message}\"\n",
    "data['grant_type'] = \"client_credentials\""
   ]
  },
  {
   "cell_type": "code",
   "execution_count": 7,
   "id": "c03d58e7",
   "metadata": {},
   "outputs": [],
   "source": [
    "r = requests.post(url, headers=headers, data=data)"
   ]
  },
  {
   "cell_type": "code",
   "execution_count": 8,
   "id": "7f55c824",
   "metadata": {},
   "outputs": [],
   "source": [
    "token = r.json()['access_token']"
   ]
  },
  {
   "cell_type": "markdown",
   "id": "729607e5",
   "metadata": {},
   "source": [
    "Using the token I've created to search for the class playlist"
   ]
  },
  {
   "cell_type": "code",
   "execution_count": 9,
   "id": "8bc05ed1",
   "metadata": {},
   "outputs": [],
   "source": [
    "playlistId = \"5pQVH0EJssqt4KDXPQVwv3?si=1c78075b836b414a\"\n",
    "playlistUrl = f\"https://api.spotify.com/v1/playlists/{playlistId}\"\n",
    "headers = {\n",
    "    \"Authorization\": \"Bearer \" + token\n",
    "}"
   ]
  },
  {
   "cell_type": "code",
   "execution_count": 10,
   "id": "1ff22a0a",
   "metadata": {},
   "outputs": [],
   "source": [
    "tracklist = requests.get(url=playlistUrl, headers=headers)"
   ]
  },
  {
   "cell_type": "code",
   "execution_count": 11,
   "id": "0456758e",
   "metadata": {},
   "outputs": [],
   "source": [
    "tracklist = tracklist.json()"
   ]
  },
  {
   "cell_type": "code",
   "execution_count": null,
   "id": "b1a7bb64",
   "metadata": {},
   "outputs": [],
   "source": [
    "tracklist"
   ]
  },
  {
   "cell_type": "markdown",
   "id": "81d36667",
   "metadata": {},
   "source": [
    "Creating a dataframe with the songs titles and the artists"
   ]
  },
  {
   "cell_type": "code",
   "execution_count": 13,
   "id": "88a29b2b",
   "metadata": {},
   "outputs": [
    {
     "name": "stdout",
     "output_type": "stream",
     "text": [
      "['What Is Love - 7\" Mix', 'Big Me', 'Under the Bridge', 'Breathe', 'Scar Tissue', 'Dirty Little Secret', 'Changes', 'Changes', \"I Still Haven't Found What I'm Looking For\", 'Caminando por la vida', 'Adolescentes', 'Adolescentes', 'Appreciate It', 'Bohemian Rhapsody', 'Points of Authority', 'You Give Love A Bad Name', 'Wishing on a Star']\n",
      "['Haddaway', 'Foo Fighters', 'Red Hot Chili Peppers', 'The Prodigy', 'Red Hot Chili Peppers', 'The All-American Rejects', '2Pac', 'Talent', 'U2', 'Melendi', 'Kiko y Shara', 'Shara', '2Baba', 'Queen', 'Linkin Park', 'Bon Jovi', 'Rose Royce']\n"
     ]
    }
   ],
   "source": [
    "title = []\n",
    "artist = []\n",
    "\n",
    "#I have to put song and artist in the same loop because some songs have two artists\n",
    "for t in tracklist['tracks']['items']:\n",
    "    for a in t['track']['artists']:\n",
    "        artist.append(a['name'])\n",
    "        title.append(t['track']['name'])\n",
    "\n",
    "print(title)\n",
    "print(artist)\n",
    "\n",
    "songs = pd.DataFrame({\"title\":title,\n",
    "                       \"artist\":artist\n",
    "                      })"
   ]
  },
  {
   "cell_type": "code",
   "execution_count": 14,
   "id": "47cd4064",
   "metadata": {},
   "outputs": [
    {
     "data": {
      "text/html": [
       "<div>\n",
       "<style scoped>\n",
       "    .dataframe tbody tr th:only-of-type {\n",
       "        vertical-align: middle;\n",
       "    }\n",
       "\n",
       "    .dataframe tbody tr th {\n",
       "        vertical-align: top;\n",
       "    }\n",
       "\n",
       "    .dataframe thead th {\n",
       "        text-align: right;\n",
       "    }\n",
       "</style>\n",
       "<table border=\"1\" class=\"dataframe\">\n",
       "  <thead>\n",
       "    <tr style=\"text-align: right;\">\n",
       "      <th></th>\n",
       "      <th>title</th>\n",
       "      <th>artist</th>\n",
       "    </tr>\n",
       "  </thead>\n",
       "  <tbody>\n",
       "    <tr>\n",
       "      <th>0</th>\n",
       "      <td>What Is Love - 7\" Mix</td>\n",
       "      <td>Haddaway</td>\n",
       "    </tr>\n",
       "    <tr>\n",
       "      <th>1</th>\n",
       "      <td>Big Me</td>\n",
       "      <td>Foo Fighters</td>\n",
       "    </tr>\n",
       "    <tr>\n",
       "      <th>2</th>\n",
       "      <td>Under the Bridge</td>\n",
       "      <td>Red Hot Chili Peppers</td>\n",
       "    </tr>\n",
       "    <tr>\n",
       "      <th>3</th>\n",
       "      <td>Breathe</td>\n",
       "      <td>The Prodigy</td>\n",
       "    </tr>\n",
       "    <tr>\n",
       "      <th>4</th>\n",
       "      <td>Scar Tissue</td>\n",
       "      <td>Red Hot Chili Peppers</td>\n",
       "    </tr>\n",
       "    <tr>\n",
       "      <th>5</th>\n",
       "      <td>Dirty Little Secret</td>\n",
       "      <td>The All-American Rejects</td>\n",
       "    </tr>\n",
       "    <tr>\n",
       "      <th>6</th>\n",
       "      <td>Changes</td>\n",
       "      <td>2Pac</td>\n",
       "    </tr>\n",
       "    <tr>\n",
       "      <th>7</th>\n",
       "      <td>Changes</td>\n",
       "      <td>Talent</td>\n",
       "    </tr>\n",
       "    <tr>\n",
       "      <th>8</th>\n",
       "      <td>I Still Haven't Found What I'm Looking For</td>\n",
       "      <td>U2</td>\n",
       "    </tr>\n",
       "    <tr>\n",
       "      <th>9</th>\n",
       "      <td>Caminando por la vida</td>\n",
       "      <td>Melendi</td>\n",
       "    </tr>\n",
       "    <tr>\n",
       "      <th>10</th>\n",
       "      <td>Adolescentes</td>\n",
       "      <td>Kiko y Shara</td>\n",
       "    </tr>\n",
       "    <tr>\n",
       "      <th>11</th>\n",
       "      <td>Adolescentes</td>\n",
       "      <td>Shara</td>\n",
       "    </tr>\n",
       "    <tr>\n",
       "      <th>12</th>\n",
       "      <td>Appreciate It</td>\n",
       "      <td>2Baba</td>\n",
       "    </tr>\n",
       "    <tr>\n",
       "      <th>13</th>\n",
       "      <td>Bohemian Rhapsody</td>\n",
       "      <td>Queen</td>\n",
       "    </tr>\n",
       "    <tr>\n",
       "      <th>14</th>\n",
       "      <td>Points of Authority</td>\n",
       "      <td>Linkin Park</td>\n",
       "    </tr>\n",
       "    <tr>\n",
       "      <th>15</th>\n",
       "      <td>You Give Love A Bad Name</td>\n",
       "      <td>Bon Jovi</td>\n",
       "    </tr>\n",
       "    <tr>\n",
       "      <th>16</th>\n",
       "      <td>Wishing on a Star</td>\n",
       "      <td>Rose Royce</td>\n",
       "    </tr>\n",
       "  </tbody>\n",
       "</table>\n",
       "</div>"
      ],
      "text/plain": [
       "                                         title                    artist\n",
       "0                        What Is Love - 7\" Mix                  Haddaway\n",
       "1                                       Big Me              Foo Fighters\n",
       "2                             Under the Bridge     Red Hot Chili Peppers\n",
       "3                                      Breathe               The Prodigy\n",
       "4                                  Scar Tissue     Red Hot Chili Peppers\n",
       "5                          Dirty Little Secret  The All-American Rejects\n",
       "6                                      Changes                      2Pac\n",
       "7                                      Changes                    Talent\n",
       "8   I Still Haven't Found What I'm Looking For                        U2\n",
       "9                        Caminando por la vida                   Melendi\n",
       "10                                Adolescentes              Kiko y Shara\n",
       "11                                Adolescentes                     Shara\n",
       "12                               Appreciate It                     2Baba\n",
       "13                           Bohemian Rhapsody                     Queen\n",
       "14                         Points of Authority               Linkin Park\n",
       "15                    You Give Love A Bad Name                  Bon Jovi\n",
       "16                           Wishing on a Star                Rose Royce"
      ]
     },
     "execution_count": 14,
     "metadata": {},
     "output_type": "execute_result"
    }
   ],
   "source": [
    "songs.head(20)"
   ]
  },
  {
   "cell_type": "markdown",
   "id": "494227ec",
   "metadata": {},
   "source": [
    "Creating a DF from the global top"
   ]
  },
  {
   "cell_type": "code",
   "execution_count": 15,
   "id": "74b16f38",
   "metadata": {},
   "outputs": [],
   "source": [
    "playlistId = \"37i9dQZEVXbMDoHDwVN2tF?si=2f814d9bc3b04a8f\"\n",
    "playlistUrl = f\"https://api.spotify.com/v1/playlists/{playlistId}\"\n",
    "headers = {\n",
    "    \"Authorization\": \"Bearer \" + token\n",
    "}"
   ]
  },
  {
   "cell_type": "code",
   "execution_count": 16,
   "id": "56bd58bc",
   "metadata": {},
   "outputs": [],
   "source": [
    "tracklist = requests.get(url=playlistUrl, headers=headers).json()"
   ]
  },
  {
   "cell_type": "code",
   "execution_count": 17,
   "id": "0f94e8e4",
   "metadata": {},
   "outputs": [
    {
     "name": "stdout",
     "output_type": "stream",
     "text": [
      "['Heat Waves', 'STAY (with Justin Bieber)', 'STAY (with Justin Bieber)', 'abcdefu', 'Enemy (with JID) - from the series Arcane League of Legends', 'Enemy (with JID) - from the series Arcane League of Legends', 'Enemy (with JID) - from the series Arcane League of Legends', 'Enemy (with JID) - from the series Arcane League of Legends', 'Cold Heart - PNAU Remix', 'Cold Heart - PNAU Remix', 'Cold Heart - PNAU Remix', 'Easy On Me', 'INDUSTRY BABY (feat. Jack Harlow)', 'INDUSTRY BABY (feat. Jack Harlow)', 'MAMIII', 'MAMIII', 'Desesperados', 'Desesperados', \"We Don't Talk About Bruno\", \"We Don't Talk About Bruno\", \"We Don't Talk About Bruno\", \"We Don't Talk About Bruno\", \"We Don't Talk About Bruno\", \"We Don't Talk About Bruno\", \"We Don't Talk About Bruno\", 'Shivers', 'Still D.R.E.', 'Still D.R.E.', 'Stay Alive (Prod. SUGA of BTS)', 'Infinity', 'THATS WHAT I WANT', 'Woman', 'Ghost', 'Boyfriend', 'Pepas', 'The Joker And The Queen (feat. Taylor Swift)', 'The Joker And The Queen (feat. Taylor Swift)', 'Bad Habits', 'My Universe', 'My Universe', 'I Love You So', 'Lo Siento BB:/ (with Bad Bunny & Julieta Venegas)', 'Lo Siento BB:/ (with Bad Bunny & Julieta Venegas)', 'Lo Siento BB:/ (with Bad Bunny & Julieta Venegas)', 'pushin P (feat. Young Thug)', 'pushin P (feat. Young Thug)', 'pushin P (feat. Young Thug)', 'Do It To It', 'Do It To It', 'Lose Yourself - From \"8 Mile\" Soundtrack', 'Where Are You Now', 'Where Are You Now', 'good 4 u', 'Without Me', 'Yonaguni', 'The Motto', 'The Motto', 'Blinding Lights', 'Need to Know', 'Sweater Weather', 'The Real Slim Shady', 'Kiss Me More (feat. SZA)', 'Kiss Me More (feat. SZA)', 'The Next Episode', 'The Next Episode', 'Light Switch', 'Softcore', 'City of Gods', 'City of Gods', 'City of Gods', 'Dandelions', 'Toxic', 'traitor', 'Mon Amour - Remix', 'Mon Amour - Remix', 'MIDDLE OF THE NIGHT', 'Brividi', 'Brividi', 'MONTERO (Call Me By Your Name)', 'Surface Pressure - From \"Encanto\"/Soundtrack Version', 'Oh My God']\n",
      "['Glass Animals', 'The Kid LAROI', 'Justin Bieber', 'GAYLE', 'Imagine Dragons', 'JID', 'Arcane', 'League of Legends', 'Elton John', 'Dua Lipa', 'PNAU', 'Adele', 'Lil Nas X', 'Jack Harlow', 'Becky G', 'KAROL G', 'Rauw Alejandro', 'Chencho Corleone', 'Carolina Gaitán - La Gaita', 'Mauro Castillo', 'Adassa', 'Rhenzy Feliz', 'Diane Guerrero', 'Stephanie Beatriz', 'Encanto - Cast', 'Ed Sheeran', 'Dr. Dre', 'Snoop Dogg', 'Jung Kook', 'Jaymes Young', 'Lil Nas X', 'Doja Cat', 'Justin Bieber', 'Dove Cameron', 'Farruko', 'Ed Sheeran', 'Taylor Swift', 'Ed Sheeran', 'Coldplay', 'BTS', 'The Walters', 'Tainy', 'Bad Bunny', 'Julieta Venegas', 'Gunna', 'Future', 'Young Thug', 'ACRAZE', 'Cherish', 'Eminem', 'Lost Frequencies', 'Calum Scott', 'Olivia Rodrigo', 'Eminem', 'Bad Bunny', 'Tiësto', 'Ava Max', 'The Weeknd', 'Doja Cat', 'The Neighbourhood', 'Eminem', 'Doja Cat', 'SZA', 'Dr. Dre', 'Snoop Dogg', 'Charlie Puth', 'The Neighbourhood', 'Fivio Foreign', 'Kanye West', 'Alicia Keys', 'Ruth B.', 'BoyWithUke', 'Olivia Rodrigo', 'zzoilo', 'Aitana', 'Elley Duhé', 'Mahmood', 'BLANCO', 'Lil Nas X', 'Jessica Darrow', 'Adele']\n"
     ]
    }
   ],
   "source": [
    "title = []\n",
    "artist = []\n",
    "\n",
    "#I have to put song and artist in the same loop because some songs have two artists\n",
    "for t in tracklist['tracks']['items']:\n",
    "    for a in t['track']['artists']:\n",
    "        artist.append(a['name'])\n",
    "        title.append(t['track']['name'])\n",
    "\n",
    "print(title)\n",
    "print(artist)\n",
    "\n",
    "songs = pd.DataFrame({\"title\":title,\n",
    "                       \"artist\":artist\n",
    "                      })"
   ]
  },
  {
   "cell_type": "code",
   "execution_count": 18,
   "id": "771edb80",
   "metadata": {
    "scrolled": true
   },
   "outputs": [
    {
     "data": {
      "text/html": [
       "<div>\n",
       "<style scoped>\n",
       "    .dataframe tbody tr th:only-of-type {\n",
       "        vertical-align: middle;\n",
       "    }\n",
       "\n",
       "    .dataframe tbody tr th {\n",
       "        vertical-align: top;\n",
       "    }\n",
       "\n",
       "    .dataframe thead th {\n",
       "        text-align: right;\n",
       "    }\n",
       "</style>\n",
       "<table border=\"1\" class=\"dataframe\">\n",
       "  <thead>\n",
       "    <tr style=\"text-align: right;\">\n",
       "      <th></th>\n",
       "      <th>title</th>\n",
       "      <th>artist</th>\n",
       "    </tr>\n",
       "  </thead>\n",
       "  <tbody>\n",
       "    <tr>\n",
       "      <th>0</th>\n",
       "      <td>Heat Waves</td>\n",
       "      <td>Glass Animals</td>\n",
       "    </tr>\n",
       "    <tr>\n",
       "      <th>1</th>\n",
       "      <td>STAY (with Justin Bieber)</td>\n",
       "      <td>The Kid LAROI</td>\n",
       "    </tr>\n",
       "    <tr>\n",
       "      <th>2</th>\n",
       "      <td>STAY (with Justin Bieber)</td>\n",
       "      <td>Justin Bieber</td>\n",
       "    </tr>\n",
       "    <tr>\n",
       "      <th>3</th>\n",
       "      <td>abcdefu</td>\n",
       "      <td>GAYLE</td>\n",
       "    </tr>\n",
       "    <tr>\n",
       "      <th>4</th>\n",
       "      <td>Enemy (with JID) - from the series Arcane Leag...</td>\n",
       "      <td>Imagine Dragons</td>\n",
       "    </tr>\n",
       "    <tr>\n",
       "      <th>5</th>\n",
       "      <td>Enemy (with JID) - from the series Arcane Leag...</td>\n",
       "      <td>JID</td>\n",
       "    </tr>\n",
       "    <tr>\n",
       "      <th>6</th>\n",
       "      <td>Enemy (with JID) - from the series Arcane Leag...</td>\n",
       "      <td>Arcane</td>\n",
       "    </tr>\n",
       "    <tr>\n",
       "      <th>7</th>\n",
       "      <td>Enemy (with JID) - from the series Arcane Leag...</td>\n",
       "      <td>League of Legends</td>\n",
       "    </tr>\n",
       "    <tr>\n",
       "      <th>8</th>\n",
       "      <td>Cold Heart - PNAU Remix</td>\n",
       "      <td>Elton John</td>\n",
       "    </tr>\n",
       "    <tr>\n",
       "      <th>9</th>\n",
       "      <td>Cold Heart - PNAU Remix</td>\n",
       "      <td>Dua Lipa</td>\n",
       "    </tr>\n",
       "    <tr>\n",
       "      <th>10</th>\n",
       "      <td>Cold Heart - PNAU Remix</td>\n",
       "      <td>PNAU</td>\n",
       "    </tr>\n",
       "    <tr>\n",
       "      <th>11</th>\n",
       "      <td>Easy On Me</td>\n",
       "      <td>Adele</td>\n",
       "    </tr>\n",
       "    <tr>\n",
       "      <th>12</th>\n",
       "      <td>INDUSTRY BABY (feat. Jack Harlow)</td>\n",
       "      <td>Lil Nas X</td>\n",
       "    </tr>\n",
       "    <tr>\n",
       "      <th>13</th>\n",
       "      <td>INDUSTRY BABY (feat. Jack Harlow)</td>\n",
       "      <td>Jack Harlow</td>\n",
       "    </tr>\n",
       "    <tr>\n",
       "      <th>14</th>\n",
       "      <td>MAMIII</td>\n",
       "      <td>Becky G</td>\n",
       "    </tr>\n",
       "    <tr>\n",
       "      <th>15</th>\n",
       "      <td>MAMIII</td>\n",
       "      <td>KAROL G</td>\n",
       "    </tr>\n",
       "    <tr>\n",
       "      <th>16</th>\n",
       "      <td>Desesperados</td>\n",
       "      <td>Rauw Alejandro</td>\n",
       "    </tr>\n",
       "    <tr>\n",
       "      <th>17</th>\n",
       "      <td>Desesperados</td>\n",
       "      <td>Chencho Corleone</td>\n",
       "    </tr>\n",
       "    <tr>\n",
       "      <th>18</th>\n",
       "      <td>We Don't Talk About Bruno</td>\n",
       "      <td>Carolina Gaitán - La Gaita</td>\n",
       "    </tr>\n",
       "    <tr>\n",
       "      <th>19</th>\n",
       "      <td>We Don't Talk About Bruno</td>\n",
       "      <td>Mauro Castillo</td>\n",
       "    </tr>\n",
       "  </tbody>\n",
       "</table>\n",
       "</div>"
      ],
      "text/plain": [
       "                                                title  \\\n",
       "0                                          Heat Waves   \n",
       "1                           STAY (with Justin Bieber)   \n",
       "2                           STAY (with Justin Bieber)   \n",
       "3                                             abcdefu   \n",
       "4   Enemy (with JID) - from the series Arcane Leag...   \n",
       "5   Enemy (with JID) - from the series Arcane Leag...   \n",
       "6   Enemy (with JID) - from the series Arcane Leag...   \n",
       "7   Enemy (with JID) - from the series Arcane Leag...   \n",
       "8                             Cold Heart - PNAU Remix   \n",
       "9                             Cold Heart - PNAU Remix   \n",
       "10                            Cold Heart - PNAU Remix   \n",
       "11                                         Easy On Me   \n",
       "12                  INDUSTRY BABY (feat. Jack Harlow)   \n",
       "13                  INDUSTRY BABY (feat. Jack Harlow)   \n",
       "14                                             MAMIII   \n",
       "15                                             MAMIII   \n",
       "16                                       Desesperados   \n",
       "17                                       Desesperados   \n",
       "18                          We Don't Talk About Bruno   \n",
       "19                          We Don't Talk About Bruno   \n",
       "\n",
       "                        artist  \n",
       "0                Glass Animals  \n",
       "1                The Kid LAROI  \n",
       "2                Justin Bieber  \n",
       "3                        GAYLE  \n",
       "4              Imagine Dragons  \n",
       "5                          JID  \n",
       "6                       Arcane  \n",
       "7            League of Legends  \n",
       "8                   Elton John  \n",
       "9                     Dua Lipa  \n",
       "10                        PNAU  \n",
       "11                       Adele  \n",
       "12                   Lil Nas X  \n",
       "13                 Jack Harlow  \n",
       "14                     Becky G  \n",
       "15                     KAROL G  \n",
       "16              Rauw Alejandro  \n",
       "17            Chencho Corleone  \n",
       "18  Carolina Gaitán - La Gaita  \n",
       "19              Mauro Castillo  "
      ]
     },
     "execution_count": 18,
     "metadata": {},
     "output_type": "execute_result"
    }
   ],
   "source": [
    "songs.head(20)"
   ]
  }
 ],
 "metadata": {
  "kernelspec": {
   "display_name": "Python 3 (ipykernel)",
   "language": "python",
   "name": "python3"
  },
  "language_info": {
   "codemirror_mode": {
    "name": "ipython",
    "version": 3
   },
   "file_extension": ".py",
   "mimetype": "text/x-python",
   "name": "python",
   "nbconvert_exporter": "python",
   "pygments_lexer": "ipython3",
   "version": "3.9.7"
  }
 },
 "nbformat": 4,
 "nbformat_minor": 5
}
